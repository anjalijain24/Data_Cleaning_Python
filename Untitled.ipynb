{
 "cells": [
  {
   "cell_type": "code",
   "execution_count": 9,
   "id": "e0be2648-e2fe-459e-949c-37f600b610c6",
   "metadata": {},
   "outputs": [
    {
     "name": "stdout",
     "output_type": "stream",
     "text": [
      "Requirement already satisfied: pandas in c:\\users\\dell\\anaconda3\\lib\\site-packages (2.2.2)Note: you may need to restart the kernel to use updated packages.\n",
      "\n",
      "Requirement already satisfied: numpy>=1.26.0 in c:\\users\\dell\\anaconda3\\lib\\site-packages (from pandas) (1.26.4)\n",
      "Requirement already satisfied: python-dateutil>=2.8.2 in c:\\users\\dell\\anaconda3\\lib\\site-packages (from pandas) (2.9.0.post0)\n",
      "Requirement already satisfied: pytz>=2020.1 in c:\\users\\dell\\anaconda3\\lib\\site-packages (from pandas) (2024.1)\n",
      "Requirement already satisfied: tzdata>=2022.7 in c:\\users\\dell\\anaconda3\\lib\\site-packages (from pandas) (2023.3)\n",
      "Requirement already satisfied: six>=1.5 in c:\\users\\dell\\anaconda3\\lib\\site-packages (from python-dateutil>=2.8.2->pandas) (1.16.0)\n"
     ]
    }
   ],
   "source": [
    "pip install pandas"
   ]
  },
  {
   "cell_type": "code",
   "execution_count": 3,
   "id": "7cc92ce5-143b-489c-a769-8cca712346e1",
   "metadata": {},
   "outputs": [],
   "source": [
    "import pandas as pd"
   ]
  },
  {
   "cell_type": "code",
   "execution_count": 5,
   "id": "45d99517-10a6-4960-b2b2-647fdd39331d",
   "metadata": {},
   "outputs": [],
   "source": [
    "data=pd.read_json(\"C:\\\\Users\\\\DELL\\\\Downloads\\\\zfunds.in.json\",encoding=\"utf-16\",lines=True)\n"
   ]
  },
  {
   "cell_type": "code",
   "execution_count": 6,
   "id": "f57803ab-84d8-4d4b-a35a-46f7760bf5eb",
   "metadata": {},
   "outputs": [
    {
     "data": {
      "text/html": [
       "<div>\n",
       "<style scoped>\n",
       "    .dataframe tbody tr th:only-of-type {\n",
       "        vertical-align: middle;\n",
       "    }\n",
       "\n",
       "    .dataframe tbody tr th {\n",
       "        vertical-align: top;\n",
       "    }\n",
       "\n",
       "    .dataframe thead th {\n",
       "        text-align: right;\n",
       "    }\n",
       "</style>\n",
       "<table border=\"1\" class=\"dataframe\">\n",
       "  <thead>\n",
       "    <tr style=\"text-align: right;\">\n",
       "      <th></th>\n",
       "      <th>_id</th>\n",
       "      <th>_index</th>\n",
       "      <th>_score</th>\n",
       "      <th>_source</th>\n",
       "      <th>_type</th>\n",
       "      <th>sort</th>\n",
       "      <th>_ignored</th>\n",
       "    </tr>\n",
       "  </thead>\n",
       "  <tbody>\n",
       "    <tr>\n",
       "      <th>0</th>\n",
       "      <td>9f442d97-2d46-4ff1-9f7b-d90a3a524570</td>\n",
       "      <td>users</td>\n",
       "      <td>NaN</td>\n",
       "      <td>{'about': 'NR Shreyas CrossingAmbawadiAhmedaba...</td>\n",
       "      <td>users</td>\n",
       "      <td>[0]</td>\n",
       "      <td>NaN</td>\n",
       "    </tr>\n",
       "    <tr>\n",
       "      <th>1</th>\n",
       "      <td>4cf8f42e-71db-4fa3-a302-c2bcb50b2487</td>\n",
       "      <td>users</td>\n",
       "      <td>NaN</td>\n",
       "      <td>{'about': 'Kantilal ComplexMohoneKalyan421102M...</td>\n",
       "      <td>users</td>\n",
       "      <td>[1]</td>\n",
       "      <td>NaN</td>\n",
       "    </tr>\n",
       "    <tr>\n",
       "      <th>2</th>\n",
       "      <td>bee8f955-e73a-4035-8293-d0e16d0b791d</td>\n",
       "      <td>users</td>\n",
       "      <td>NaN</td>\n",
       "      <td>{'about': 'Rekha Nitin Shah is a AMFI register...</td>\n",
       "      <td>users</td>\n",
       "      <td>[2]</td>\n",
       "      <td>[about.keyword]</td>\n",
       "    </tr>\n",
       "    <tr>\n",
       "      <th>3</th>\n",
       "      <td>4eb590c9-de32-4ea6-a92b-4c0781d902b6</td>\n",
       "      <td>users</td>\n",
       "      <td>NaN</td>\n",
       "      <td>{'about': 'Asian Markets Securities Pvt. Ltd i...</td>\n",
       "      <td>users</td>\n",
       "      <td>[3]</td>\n",
       "      <td>[about.keyword]</td>\n",
       "    </tr>\n",
       "    <tr>\n",
       "      <th>4</th>\n",
       "      <td>597cadea-d63a-4828-b73c-da8dfff329f1</td>\n",
       "      <td>users</td>\n",
       "      <td>NaN</td>\n",
       "      <td>{'about': 'Biswajit Mondal is a AMFI registere...</td>\n",
       "      <td>users</td>\n",
       "      <td>[4]</td>\n",
       "      <td>[about.keyword]</td>\n",
       "    </tr>\n",
       "    <tr>\n",
       "      <th>...</th>\n",
       "      <td>...</td>\n",
       "      <td>...</td>\n",
       "      <td>...</td>\n",
       "      <td>...</td>\n",
       "      <td>...</td>\n",
       "      <td>...</td>\n",
       "      <td>...</td>\n",
       "    </tr>\n",
       "    <tr>\n",
       "      <th>134732</th>\n",
       "      <td>888d1e38-1dd9-48c4-9ea7-a2c4909d16c9</td>\n",
       "      <td>users</td>\n",
       "      <td>NaN</td>\n",
       "      <td>{'createdAt': '2021-03-08T14:12:36.975Z', 'dev...</td>\n",
       "      <td>users</td>\n",
       "      <td>[137402]</td>\n",
       "      <td>NaN</td>\n",
       "    </tr>\n",
       "    <tr>\n",
       "      <th>134733</th>\n",
       "      <td>552e522a-35eb-468d-989d-951f9036f823</td>\n",
       "      <td>users</td>\n",
       "      <td>NaN</td>\n",
       "      <td>{'address': 'SIPARA WEST NEAR RAILWAY LIINE GU...</td>\n",
       "      <td>users</td>\n",
       "      <td>[137404]</td>\n",
       "      <td>NaN</td>\n",
       "    </tr>\n",
       "    <tr>\n",
       "      <th>134734</th>\n",
       "      <td>6a618271-ef85-4dae-93f3-affdf5d08b6d</td>\n",
       "      <td>users</td>\n",
       "      <td>NaN</td>\n",
       "      <td>{'device_type': 'android', 'id': '6a618271-ef8...</td>\n",
       "      <td>users</td>\n",
       "      <td>[137405]</td>\n",
       "      <td>NaN</td>\n",
       "    </tr>\n",
       "    <tr>\n",
       "      <th>134735</th>\n",
       "      <td>2d03d8a0-1cab-43d2-8b60-b1580cbdf885</td>\n",
       "      <td>users</td>\n",
       "      <td>NaN</td>\n",
       "      <td>{'device_type': 'android', 'id': '2d03d8a0-1ca...</td>\n",
       "      <td>users</td>\n",
       "      <td>[137406]</td>\n",
       "      <td>NaN</td>\n",
       "    </tr>\n",
       "    <tr>\n",
       "      <th>134736</th>\n",
       "      <td>603ff4da-ddeb-45cd-836d-081b63a9ba34</td>\n",
       "      <td>users</td>\n",
       "      <td>NaN</td>\n",
       "      <td>{'address': '26.4260236,91.6051005', 'createdA...</td>\n",
       "      <td>users</td>\n",
       "      <td>[137407]</td>\n",
       "      <td>NaN</td>\n",
       "    </tr>\n",
       "  </tbody>\n",
       "</table>\n",
       "<p>134737 rows × 7 columns</p>\n",
       "</div>"
      ],
      "text/plain": [
       "                                         _id _index  _score  \\\n",
       "0       9f442d97-2d46-4ff1-9f7b-d90a3a524570  users     NaN   \n",
       "1       4cf8f42e-71db-4fa3-a302-c2bcb50b2487  users     NaN   \n",
       "2       bee8f955-e73a-4035-8293-d0e16d0b791d  users     NaN   \n",
       "3       4eb590c9-de32-4ea6-a92b-4c0781d902b6  users     NaN   \n",
       "4       597cadea-d63a-4828-b73c-da8dfff329f1  users     NaN   \n",
       "...                                      ...    ...     ...   \n",
       "134732  888d1e38-1dd9-48c4-9ea7-a2c4909d16c9  users     NaN   \n",
       "134733  552e522a-35eb-468d-989d-951f9036f823  users     NaN   \n",
       "134734  6a618271-ef85-4dae-93f3-affdf5d08b6d  users     NaN   \n",
       "134735  2d03d8a0-1cab-43d2-8b60-b1580cbdf885  users     NaN   \n",
       "134736  603ff4da-ddeb-45cd-836d-081b63a9ba34  users     NaN   \n",
       "\n",
       "                                                  _source  _type      sort  \\\n",
       "0       {'about': 'NR Shreyas CrossingAmbawadiAhmedaba...  users       [0]   \n",
       "1       {'about': 'Kantilal ComplexMohoneKalyan421102M...  users       [1]   \n",
       "2       {'about': 'Rekha Nitin Shah is a AMFI register...  users       [2]   \n",
       "3       {'about': 'Asian Markets Securities Pvt. Ltd i...  users       [3]   \n",
       "4       {'about': 'Biswajit Mondal is a AMFI registere...  users       [4]   \n",
       "...                                                   ...    ...       ...   \n",
       "134732  {'createdAt': '2021-03-08T14:12:36.975Z', 'dev...  users  [137402]   \n",
       "134733  {'address': 'SIPARA WEST NEAR RAILWAY LIINE GU...  users  [137404]   \n",
       "134734  {'device_type': 'android', 'id': '6a618271-ef8...  users  [137405]   \n",
       "134735  {'device_type': 'android', 'id': '2d03d8a0-1ca...  users  [137406]   \n",
       "134736  {'address': '26.4260236,91.6051005', 'createdA...  users  [137407]   \n",
       "\n",
       "               _ignored  \n",
       "0                   NaN  \n",
       "1                   NaN  \n",
       "2       [about.keyword]  \n",
       "3       [about.keyword]  \n",
       "4       [about.keyword]  \n",
       "...                 ...  \n",
       "134732              NaN  \n",
       "134733              NaN  \n",
       "134734              NaN  \n",
       "134735              NaN  \n",
       "134736              NaN  \n",
       "\n",
       "[134737 rows x 7 columns]"
      ]
     },
     "execution_count": 6,
     "metadata": {},
     "output_type": "execute_result"
    }
   ],
   "source": [
    "data"
   ]
  },
  {
   "cell_type": "code",
   "execution_count": 167,
   "id": "c564a3ea-9323-42b4-a4c8-4d1690ec3e51",
   "metadata": {},
   "outputs": [
    {
     "data": {
      "text/plain": [
       "{'about': 'NR Shreyas CrossingAmbawadiAhmedabad380006GUINDIABDEPS4292NBDEPS4292NGujaratjapanshah22@gmail.com25466694+91989894929244854YFinancial Planning, Mutual Funds, NISM certified',\n",
       " 'address': '606, Puspak Tower ,NR Shreyas Crossing ,Ambawadi',\n",
       " 'arn': '37100',\n",
       " 'arn_valid_till': '20/10/2022',\n",
       " 'capabilities': [' Mutual Funds', ' NISM certified', 'Financial Planning'],\n",
       " 'city': 'Ahmedabad',\n",
       " 'createdAt': '2020-01-19T16:21:08.012Z',\n",
       " 'es_refresh': '2022-05-13T15:08:00.591Z',\n",
       " 'id': '9f442d97-2d46-4ff1-9f7b-d90a3a524570',\n",
       " 'kyd_compliant': 'Y',\n",
       " 'name': 'Japan Madhusudan Shah',\n",
       " 'products': ['Mutual Funds'],\n",
       " 'profile_status': 'incomplete',\n",
       " 'role': ['expert'],\n",
       " 'status': 'unclaimed',\n",
       " 'telephoneO': '25466694'}"
      ]
     },
     "execution_count": 167,
     "metadata": {},
     "output_type": "execute_result"
    }
   ],
   "source": [
    "data[\"_source\"][0]"
   ]
  },
  {
   "cell_type": "code",
   "execution_count": 137,
   "id": "e7b6af74-43aa-485e-aaae-8e3747890308",
   "metadata": {},
   "outputs": [
    {
     "data": {
      "text/plain": [
       "{'about': \"Rekha Nitin Shah is a AMFI registered distributor.  Rekha Nitin Shah's office is located at FLAT NO 4, 2nd FlOORCHANDANGIRI BUILDING TILAK ROADOPP ASHA PAREKH HOSPITAL SANTACRUZ WESTMUMBAI.  They are licensed to distribute mutual funds under PAN number AONPS5949B and they are KYD (Know Your Distributor) Complaint.  All transactions to Rekha Nitin Shah are tagged in ARN-127424\",\n",
       " 'address': 'FLAT NO 4, 2nd FlOOR,CHANDANGIRI BUILDING TILAK ROAD,OPP ASHA PAREKH HOSPITAL SANTACRUZ WEST',\n",
       " 'arn': '127424',\n",
       " 'arn_valid_till': '20/07/2020',\n",
       " 'capabilities': [' Mutual Funds', ' NISM certified', 'Financial Planning'],\n",
       " 'city': 'MUMBAI',\n",
       " 'createdAt': '2019-12-18T20:15:58.666Z',\n",
       " 'es_refresh': '2022-05-13T15:09:51.295Z',\n",
       " 'id': 'bee8f955-e73a-4035-8293-d0e16d0b791d',\n",
       " 'kyd_compliant': 'Yes',\n",
       " 'name': 'Rekha Nitin Shah',\n",
       " 'pin': '400054',\n",
       " 'products': ['Mutual Funds '],\n",
       " 'profile_status': 'incomplete',\n",
       " 'role': ['expert'],\n",
       " 'status': 'unclaimed'}"
      ]
     },
     "execution_count": 137,
     "metadata": {},
     "output_type": "execute_result"
    }
   ],
   "source": [
    "data[\"_source\"][2]"
   ]
  },
  {
   "cell_type": "code",
   "execution_count": 7,
   "id": "aeff33f1-a853-45af-847f-73b5c2bd0489",
   "metadata": {},
   "outputs": [],
   "source": [
    "l=[]\n",
    "for i in data[\"_source\"]:\n",
    "    if \"about\" in i.keys():\n",
    "        l.append(i[\"about\"])\n",
    "        "
   ]
  },
  {
   "cell_type": "code",
   "execution_count": 8,
   "id": "cced48ae-fad8-4c21-b24d-56aed1768773",
   "metadata": {},
   "outputs": [
    {
     "data": {
      "text/plain": [
       "113410"
      ]
     },
     "execution_count": 8,
     "metadata": {},
     "output_type": "execute_result"
    }
   ],
   "source": [
    "len(l)"
   ]
  },
  {
   "cell_type": "code",
   "execution_count": 101,
   "id": "d8cfb760-7c05-4ecd-a79a-96dbbada1333",
   "metadata": {},
   "outputs": [
    {
     "data": {
      "text/plain": [
       "\"Rekha Nitin Shah is a AMFI registered distributor.  Rekha Nitin Shah's office is located at FLAT NO 4, 2nd FlOORCHANDANGIRI BUILDING TILAK ROADOPP ASHA PAREKH HOSPITAL SANTACRUZ WESTMUMBAI.  They are licensed to distribute mutual funds under PAN number AONPS5949B and they are KYD (Know Your Distributor) Complaint.  All transactions to Rekha Nitin Shah are tagged in ARN-127424\""
      ]
     },
     "execution_count": 101,
     "metadata": {},
     "output_type": "execute_result"
    }
   ],
   "source": [
    "l[2]"
   ]
  },
  {
   "cell_type": "code",
   "execution_count": 31,
   "id": "6408ad82-3776-461b-91d1-16bcc3591147",
   "metadata": {},
   "outputs": [
    {
     "data": {
      "text/plain": [
       "'Mohammadwadi RoadHadapsarPune411028MAIndiaBUSPS8328EBUSPS8328EMaharashtrashaheen_shaikh88@yahoo.com+91956179536442761YFinancial Planning, Mutual Funds, NISM certified'"
      ]
     },
     "execution_count": 31,
     "metadata": {},
     "output_type": "execute_result"
    }
   ],
   "source": [
    "l[5]"
   ]
  },
  {
   "cell_type": "code",
   "execution_count": 33,
   "id": "c42da03a-3256-400f-8e40-af47386d82a2",
   "metadata": {},
   "outputs": [
    {
     "data": {
      "text/plain": [
       "\"Asian Markets Securities Pvt. Ltd is a AMFI registered distributor.  Asian Markets Securities Pvt. Ltd's office is located at Athena House Row H No 2Rajini Gandha GokuldhamGoregaon EastMUMBAI.  They are licensed to distribute mutual funds under PAN number AAACA9493L and they are KYD (Know Your Distributor) Complaint.  All transactions to Asian Markets Securities Pvt. Ltd are tagged in ARN-0170\""
      ]
     },
     "execution_count": 33,
     "metadata": {},
     "output_type": "execute_result"
    }
   ],
   "source": [
    "l[3]"
   ]
  },
  {
   "cell_type": "code",
   "execution_count": null,
   "id": "372b9d0c-1b13-4312-854c-cf4046496342",
   "metadata": {},
   "outputs": [],
   "source": [
    "for i in l[0:50 ]:\n",
    "    print(i)\n",
    "    print()\n",
    "    print()"
   ]
  },
  {
   "cell_type": "code",
   "execution_count": 15,
   "id": "7069fa3e-5106-46b9-8bd0-8d35ac3a28ca",
   "metadata": {},
   "outputs": [],
   "source": [
    "name=[]\n",
    "for i in l:\n",
    "    if\"is\" in i and \"at\" in i and\"they\" in i and\"PAN\" in i:\n",
    "        name.append(i[:i.index(\" is \")])"
   ]
  },
  {
   "cell_type": "code",
   "execution_count": 17,
   "id": "db079912-6bc8-4997-ae3c-3535abc1ec72",
   "metadata": {},
   "outputs": [
    {
     "data": {
      "text/plain": [
       "64063"
      ]
     },
     "execution_count": 17,
     "metadata": {},
     "output_type": "execute_result"
    }
   ],
   "source": [
    "len(name)"
   ]
  },
  {
   "cell_type": "code",
   "execution_count": null,
   "id": "9d548674-dd04-48cf-8053-d949324bd0b9",
   "metadata": {},
   "outputs": [],
   "source": [
    "name"
   ]
  },
  {
   "cell_type": "code",
   "execution_count": 53,
   "id": "8011e074-f213-44b8-b8c9-86f3cb0c5133",
   "metadata": {},
   "outputs": [],
   "source": [
    "location=[]\n",
    "for i in l:\n",
    "    if\"is\" in i and \"at\" in i and\"they\" in i and\"PAN\" in i:\n",
    "        location.append(i[i.index(\" at \")+4:i.index(\"They\")])\n"
   ]
  },
  {
   "cell_type": "code",
   "execution_count": 35,
   "id": "7fb37dd6-bcda-4c21-b162-762703cbe9d3",
   "metadata": {},
   "outputs": [
    {
     "data": {
      "text/plain": [
       "64063"
      ]
     },
     "execution_count": 35,
     "metadata": {},
     "output_type": "execute_result"
    }
   ],
   "source": [
    "len(location)"
   ]
  },
  {
   "cell_type": "code",
   "execution_count": null,
   "id": "1e4199a3-7f89-4507-93bb-06e64334cfe7",
   "metadata": {},
   "outputs": [],
   "source": [
    "location"
   ]
  },
  {
   "cell_type": "code",
   "execution_count": 65,
   "id": "3a1006fc-d8f8-45a5-bc5c-2e2096fe9659",
   "metadata": {},
   "outputs": [],
   "source": [
    "PAN=[]\n",
    "for i in l:\n",
    "    if\"is\" in i and \"at\" in i and\"they\" in i and\"PAN\" in i:\n",
    "        PAN.append(i[i.index(\"number \")+7:i.index(\"and\")])\n",
    "    "
   ]
  },
  {
   "cell_type": "code",
   "execution_count": 19,
   "id": "871d21ef-ccf3-4ced-90b4-35eb224a926b",
   "metadata": {},
   "outputs": [
    {
     "data": {
      "text/plain": [
       "64063"
      ]
     },
     "execution_count": 19,
     "metadata": {},
     "output_type": "execute_result"
    }
   ],
   "source": [
    "len(PAN)"
   ]
  },
  {
   "cell_type": "code",
   "execution_count": null,
   "id": "64be20e5-261c-43f0-bdea-a5711826ac5e",
   "metadata": {},
   "outputs": [],
   "source": [
    "PAN"
   ]
  },
  {
   "cell_type": "code",
   "execution_count": 109,
   "id": "cf73a5c5-e406-44b2-bd3e-1d2284854915",
   "metadata": {},
   "outputs": [],
   "source": [
    "df=pd.DataFrame({\"NAME\":name,\"LOCATION\":location , \"PAN\":PAN})"
   ]
  },
  {
   "cell_type": "code",
   "execution_count": 111,
   "id": "35137e20-8428-49ed-8d92-dccc9fca9fed",
   "metadata": {},
   "outputs": [],
   "source": [
    "df.to_csv(\"data_clean_1.csv\")"
   ]
  },
  {
   "cell_type": "code",
   "execution_count": 113,
   "id": "9ccf26d1-586d-4af8-bac4-e6cba4100be2",
   "metadata": {},
   "outputs": [
    {
     "data": {
      "text/html": [
       "<div>\n",
       "<style scoped>\n",
       "    .dataframe tbody tr th:only-of-type {\n",
       "        vertical-align: middle;\n",
       "    }\n",
       "\n",
       "    .dataframe tbody tr th {\n",
       "        vertical-align: top;\n",
       "    }\n",
       "\n",
       "    .dataframe thead th {\n",
       "        text-align: right;\n",
       "    }\n",
       "</style>\n",
       "<table border=\"1\" class=\"dataframe\">\n",
       "  <thead>\n",
       "    <tr style=\"text-align: right;\">\n",
       "      <th></th>\n",
       "      <th>NAME</th>\n",
       "      <th>LOCATION</th>\n",
       "      <th>PAN</th>\n",
       "    </tr>\n",
       "  </thead>\n",
       "  <tbody>\n",
       "    <tr>\n",
       "      <th>0</th>\n",
       "      <td>Rekha Nitin Shah</td>\n",
       "      <td>FLAT NO 4, 2nd FlOORCHANDANGIRI BUILDING TILAK...</td>\n",
       "      <td>AONPS5949B</td>\n",
       "    </tr>\n",
       "    <tr>\n",
       "      <th>1</th>\n",
       "      <td>Asian Markets Securities Pvt. Ltd</td>\n",
       "      <td>Athena House Row H No 2Rajini Gandha Gokuldham...</td>\n",
       "      <td></td>\n",
       "    </tr>\n",
       "    <tr>\n",
       "      <th>2</th>\n",
       "      <td>Biswajit Mondal</td>\n",
       "      <td>Vill-ShillaP.O-RamgopalpurDist- Purba Barddham...</td>\n",
       "      <td>AHJPM8429P</td>\n",
       "    </tr>\n",
       "    <tr>\n",
       "      <th>3</th>\n",
       "      <td>Alka Rajendra Khandelwal</td>\n",
       "      <td>Dhar RoadManawarManawar.</td>\n",
       "      <td></td>\n",
       "    </tr>\n",
       "    <tr>\n",
       "      <th>4</th>\n",
       "      <td>S AND D FINANCIAL SERVICES</td>\n",
       "      <td>13,VARDHMAN NAGAR SOCIETYB/S.CENTRAL BANK OF I...</td>\n",
       "      <td>ADHFS9290G</td>\n",
       "    </tr>\n",
       "    <tr>\n",
       "      <th>...</th>\n",
       "      <td>...</td>\n",
       "      <td>...</td>\n",
       "      <td>...</td>\n",
       "    </tr>\n",
       "    <tr>\n",
       "      <th>64058</th>\n",
       "      <td>&lt;p&gt;Jadawati Devi</td>\n",
       "      <td>538KA/324, NEAR SAINT LORENCEINTER COLLEGE, TR...</td>\n",
       "      <td>CCLPD3445F</td>\n",
       "    </tr>\n",
       "    <tr>\n",
       "      <th>64059</th>\n",
       "      <td>Arvind Kumar Sharma</td>\n",
       "      <td>f164,rameshviharcolonyneargyansarovarcolony,al...</td>\n",
       "      <td>AWSPS2177G</td>\n",
       "    </tr>\n",
       "    <tr>\n",
       "      <th>64060</th>\n",
       "      <td>Sachin Kumar</td>\n",
       "      <td>HouseNo-394,sadarkabaribazarMeerutMeerut.</td>\n",
       "      <td>EJQPK2296P</td>\n",
       "    </tr>\n",
       "    <tr>\n",
       "      <th>64061</th>\n",
       "      <td>Uday Vir Singh Rana</td>\n",
       "      <td>H No-850 Sec-7 ExtensionGurgaon.</td>\n",
       "      <td>AEJPR1674Q</td>\n",
       "    </tr>\n",
       "    <tr>\n",
       "      <th>64062</th>\n",
       "      <td>INGENIOUS FINANCIAL ADVISORS</td>\n",
       "      <td>201/2403,PRATIKSHA APPARTMENTSOLA ROADNEAR SUR...</td>\n",
       "      <td>AAEFI5987N</td>\n",
       "    </tr>\n",
       "  </tbody>\n",
       "</table>\n",
       "<p>64063 rows × 3 columns</p>\n",
       "</div>"
      ],
      "text/plain": [
       "                                    NAME  \\\n",
       "0                       Rekha Nitin Shah   \n",
       "1      Asian Markets Securities Pvt. Ltd   \n",
       "2                        Biswajit Mondal   \n",
       "3               Alka Rajendra Khandelwal   \n",
       "4             S AND D FINANCIAL SERVICES   \n",
       "...                                  ...   \n",
       "64058                   <p>Jadawati Devi   \n",
       "64059                Arvind Kumar Sharma   \n",
       "64060                       Sachin Kumar   \n",
       "64061                Uday Vir Singh Rana   \n",
       "64062       INGENIOUS FINANCIAL ADVISORS   \n",
       "\n",
       "                                                LOCATION          PAN  \n",
       "0      FLAT NO 4, 2nd FlOORCHANDANGIRI BUILDING TILAK...  AONPS5949B   \n",
       "1      Athena House Row H No 2Rajini Gandha Gokuldham...               \n",
       "2      Vill-ShillaP.O-RamgopalpurDist- Purba Barddham...  AHJPM8429P   \n",
       "3                             Dhar RoadManawarManawar.                 \n",
       "4      13,VARDHMAN NAGAR SOCIETYB/S.CENTRAL BANK OF I...  ADHFS9290G   \n",
       "...                                                  ...          ...  \n",
       "64058  538KA/324, NEAR SAINT LORENCEINTER COLLEGE, TR...  CCLPD3445F   \n",
       "64059  f164,rameshviharcolonyneargyansarovarcolony,al...  AWSPS2177G   \n",
       "64060        HouseNo-394,sadarkabaribazarMeerutMeerut.    EJQPK2296P   \n",
       "64061                 H No-850 Sec-7 ExtensionGurgaon.    AEJPR1674Q   \n",
       "64062  201/2403,PRATIKSHA APPARTMENTSOLA ROADNEAR SUR...  AAEFI5987N   \n",
       "\n",
       "[64063 rows x 3 columns]"
      ]
     },
     "execution_count": 113,
     "metadata": {},
     "output_type": "execute_result"
    }
   ],
   "source": [
    "df"
   ]
  },
  {
   "cell_type": "code",
   "execution_count": 4,
   "id": "47400d9a-480e-497c-a824-29344c02e77f",
   "metadata": {},
   "outputs": [],
   "source": [
    "f=[]\n",
    "name=[]\n",
    "for i in data[\"_source\"]:\n",
    "    if \"about\" in i.keys():\n",
    "        if \"@\" in i[\"about\"] and \"India\" in i[\"about\"] and (\".com\" in i['about'] or \".in\" in i['about'] or  \".org\" in i['about'] or \".net\" in i['about'] or \".co.uk\" in i['about']):\n",
    "            f.append(i[\"about\"])\n",
    "            name.append(i['name'])"
   ]
  },
  {
   "cell_type": "code",
   "execution_count": 5,
   "id": "af820c30-1599-44df-9577-5a1c41f96080",
   "metadata": {},
   "outputs": [
    {
     "data": {
      "text/plain": [
       "42803"
      ]
     },
     "execution_count": 5,
     "metadata": {},
     "output_type": "execute_result"
    }
   ],
   "source": [
    "len(f)"
   ]
  },
  {
   "cell_type": "code",
   "execution_count": 6,
   "id": "c7e5e576-96b1-4cd2-94d1-9c256a49b637",
   "metadata": {},
   "outputs": [
    {
     "data": {
      "text/plain": [
       "42803"
      ]
     },
     "execution_count": 6,
     "metadata": {},
     "output_type": "execute_result"
    }
   ],
   "source": [
    "len(name)"
   ]
  },
  {
   "cell_type": "code",
   "execution_count": null,
   "id": "02f203a3-5fc2-469a-a90c-a09f4b224e1e",
   "metadata": {
    "scrolled": true
   },
   "outputs": [],
   "source": [
    "f"
   ]
  },
  {
   "cell_type": "code",
   "execution_count": null,
   "id": "eb94bb6c-8ecb-4e5f-acc3-26b5403a57e0",
   "metadata": {},
   "outputs": [],
   "source": [
    "name"
   ]
  },
  {
   "cell_type": "code",
   "execution_count": 33,
   "id": "21e39717-dd92-4929-8c55-81e62c388a7e",
   "metadata": {},
   "outputs": [],
   "source": [
    "location=[]\n",
    "for i in f:\n",
    "    if \"India\" in i:\n",
    "        location.append(i[:i.index(\"India\")+5])"
   ]
  },
  {
   "cell_type": "code",
   "execution_count": 31,
   "id": "0d07dddf-e79b-44ec-b2a0-3eb8854a34a2",
   "metadata": {},
   "outputs": [
    {
     "data": {
      "text/plain": [
       "42803"
      ]
     },
     "execution_count": 31,
     "metadata": {},
     "output_type": "execute_result"
    }
   ],
   "source": [
    "len(location)"
   ]
  },
  {
   "cell_type": "code",
   "execution_count": null,
   "id": "68577fb0-5c66-48c5-a72f-c26f7d632f51",
   "metadata": {},
   "outputs": [],
   "source": [
    "location"
   ]
  },
  {
   "cell_type": "code",
   "execution_count": 39,
   "id": "48ba0767-6b77-4bcc-b6a7-6209e71f5e61",
   "metadata": {},
   "outputs": [],
   "source": [
    "PAN=[]\n",
    "for i in f:\n",
    "    if \"India\" in i:\n",
    "        PAN.append(i[i.index(\"India\")+5:i.index(\"India\")+15])"
   ]
  },
  {
   "cell_type": "code",
   "execution_count": 43,
   "id": "35cc9a8a-5905-4c11-a25e-f6b1f39b1838",
   "metadata": {},
   "outputs": [
    {
     "data": {
      "text/plain": [
       "42803"
      ]
     },
     "execution_count": 43,
     "metadata": {},
     "output_type": "execute_result"
    }
   ],
   "source": [
    "len(PAN)"
   ]
  },
  {
   "cell_type": "code",
   "execution_count": null,
   "id": "ab11cb24-d0dc-43db-bd02-5ed84645739d",
   "metadata": {},
   "outputs": [],
   "source": [
    "PAN"
   ]
  },
  {
   "cell_type": "code",
   "execution_count": null,
   "id": "db221a90-4419-4f22-b095-99347f4599ce",
   "metadata": {},
   "outputs": [],
   "source": []
  },
  {
   "cell_type": "code",
   "execution_count": null,
   "id": "c7751a37-e614-4397-a005-fa2bcc3d52c0",
   "metadata": {},
   "outputs": [],
   "source": []
  },
  {
   "cell_type": "code",
   "execution_count": null,
   "id": "4b994e64-65d0-421f-a99e-498f8d8dd3ee",
   "metadata": {},
   "outputs": [],
   "source": []
  },
  {
   "cell_type": "code",
   "execution_count": null,
   "id": "4159d060-73ec-4c39-a364-5ff96be2a1be",
   "metadata": {},
   "outputs": [],
   "source": []
  }
 ],
 "metadata": {
  "kernelspec": {
   "display_name": "Python 3 (ipykernel)",
   "language": "python",
   "name": "python3"
  },
  "language_info": {
   "codemirror_mode": {
    "name": "ipython",
    "version": 3
   },
   "file_extension": ".py",
   "mimetype": "text/x-python",
   "name": "python",
   "nbconvert_exporter": "python",
   "pygments_lexer": "ipython3",
   "version": "3.12.4"
  }
 },
 "nbformat": 4,
 "nbformat_minor": 5
}
